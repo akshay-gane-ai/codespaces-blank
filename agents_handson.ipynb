{
 "cells": [
  {
   "cell_type": "code",
   "execution_count": 19,
   "id": "4e075494",
   "metadata": {},
   "outputs": [
    {
     "name": "stdout",
     "output_type": "stream",
     "text": [
      "0.3.23\n"
     ]
    }
   ],
   "source": [
    "import langchain\n",
    "print(langchain.__version__)"
   ]
  },
  {
   "cell_type": "code",
   "execution_count": 20,
   "id": "6e8642ec",
   "metadata": {},
   "outputs": [],
   "source": [
    "from langchain.agents import initialize_agent, Tool\n",
    "from langchain_groq import ChatGroq\n",
    "from dotenv import load_dotenv\n",
    "import os\n",
    "\n",
    "load_dotenv()\n",
    "groq_api_key = os.getenv(\"GROQ_API_KEY\")"
   ]
  },
  {
   "cell_type": "code",
   "execution_count": 21,
   "id": "e8e8a801",
   "metadata": {},
   "outputs": [
    {
     "name": "stdout",
     "output_type": "stream",
     "text": [
      "\n",
      "\n",
      "\u001b[1m> Entering new AgentExecutor chain...\u001b[0m\n",
      "\u001b[32;1m\u001b[1;3mThought: I need to find the latest information on movies releasing in April 2025. \n",
      "\n",
      "Action: Duck Duck go Search\n",
      "Action Input: \"upcoming movies april 2025\"\u001b[0m\n",
      "Observation: \u001b[36;1m\u001b[1;3mHere is our list of every movie releasing in theaters in April 2025. We have some huge blockbusters coming to theaters next month. ... A Minecraft Movie will be released in theaters on April 4, 2025. April 2025 will bring a dose of horror with a vampire movie and a new take on Mickey Mouse, a movie based on a popular video game, and a lot more. Horror, fantasy, and a lot more. ... Every Movie Coming To Theaters In April 2025. By Adrienne Tyler. Published Mar 28, 2025. Upcoming Movies in April (2025) (Images via Amazon MGM Studios, Lionsgate Movies, 20th Century Studios, Netflix) Every movie enthusiast will appreciate the upcoming 2025 movie season because several films will appear on theater screens and streaming services. The upcoming films will feature supernatural horror and action thriller dynamics with ... Release Date: April 11, 2025 Coming in fourth with 12% of the vote is Warfare, a film co-directed by Ray Mendoza and Alex Garland that tells the story of American soldiers who must escape enemy territory while fighting in Iraq.Mendoza served as the military advisor on Garland's last film, Civil War, and the two decided to work on a project based on Mendoza's own experiences. Rating: Not Rated Part 2 Release Date: April 4 Part 3 Release Date: April 11 The fifth season of \"The Chosen\" will depict \"some of the most recognized stories from the Bible,\" as the Deseret News previously reported.. From the triumphal entry to the betrayal of Judas, audiences will see the stories that they've read — or only heard — be played out on the big screen just in time ...\u001b[0m\n",
      "Thought:\u001b[32;1m\u001b[1;3mThought: It seems like I have some information about the movies releasing in April 2025, but it's not a comprehensive list. I need to search further to get a more detailed and accurate list.\n",
      "\n",
      "Action: Duck Duck go Search\n",
      "Action Input: \"upcoming movies april 2025 list\"\u001b[0m\n",
      "Observation: \u001b[36;1m\u001b[1;3mBelow is a list of all the films that will be available in theaters in April 2025, with some highlighted based on their significance. 'A Minecraft Movie' Watch It in Theaters on April 4 April 2025 will bring a dose of horror with a vampire movie and a new take on Mickey Mouse, a movie based on a popular video game, and a lot more. Horror, fantasy, and a lot more. ... Every Movie Coming To Theaters In April 2025. By Adrienne Tyler. Published Mar 28, 2025. Follow Followed Like ... Scott McGehee and David Siegel's directorial film, The Friend, will have its initial theater release in the US on March 28, 2025.Additionally, this movie will be released in theaters across the globe on April 4, 2025. Naomi Watts will play Iris, a single writer from New York. New movies in April 2025. April 2: Screamboat - Comedy horror adaptation of Steamboat Willie (theaters) ... Upcoming movies in 2025 without release dates Netflix. Summer 2025: ... Release Date: April 2nd, 2025 Synopsis: This comedy horror movie is part of the still-ongoing trend of horror movies based on the short film Steamboat Willie. The movie takes the audience through a late-night ferry ride through New York City, which starts as a routine journey quickly spirals into a full-blown nightmare.\u001b[0m\n",
      "Thought:\u001b[32;1m\u001b[1;3mThought: It seems like I have a more comprehensive list of movies releasing in April 2025. I can now provide a detailed answer to the original question.\n",
      "\n",
      "Final Answer: The latest movies that will be released in April 2025 include:\n",
      "\n",
      "* A Minecraft Movie (April 4, 2025)\n",
      "* Screamboat (April 2, 2025)\n",
      "* Warfare (April 11, 2025)\n",
      "* Part 2 (April 4, 2025)\n",
      "* Part 3 (April 11, 2025)\n",
      "* The fifth season of \"The Chosen\" (April 2025, exact date not specified)\n",
      "* The Friend (April 4, 2025, initially released in the US on March 28, 2025)\n",
      "\n",
      "Note: The list may not be exhaustive, as new movies may be announced or release dates may change.\u001b[0m\n",
      "\n",
      "\u001b[1m> Finished chain.\u001b[0m\n",
      "The latest movies that will be released in April 2025 include:\n",
      "\n",
      "* A Minecraft Movie (April 4, 2025)\n",
      "* Screamboat (April 2, 2025)\n",
      "* Warfare (April 11, 2025)\n",
      "* Part 2 (April 4, 2025)\n",
      "* Part 3 (April 11, 2025)\n",
      "* The fifth season of \"The Chosen\" (April 2025, exact date not specified)\n",
      "* The Friend (April 4, 2025, initially released in the US on March 28, 2025)\n",
      "\n",
      "Note: The list may not be exhaustive, as new movies may be announced or release dates may change.\n"
     ]
    }
   ],
   "source": [
    "from langchain_community.tools.ddg_search import DuckDuckGoSearchRun\n",
    "\n",
    "agent_search_tool = Tool(\n",
    "    name=\"Duck Duck go Search\",\n",
    "    func=DuckDuckGoSearchRun().run,\n",
    "    description=\"Use this tool to search on web if answer is not present in Knowlwdge Base of LLM\"\n",
    ")\n",
    "\n",
    "agent_llm = ChatGroq(\n",
    "    model=\"llama3-70b-8192\"\n",
    ")\n",
    "\n",
    "ddg_tool = [agent_search_tool]\n",
    "\n",
    "search_agent = initialize_agent(ddg_tool, agent_llm, agent=\"zero-shot-react-description\", verbose=True)\n",
    "agent_response = search_agent.run(\"What are the latest movies that will be release in April 2025\")\n",
    "\n",
    "print(agent_response)"
   ]
  },
  {
   "cell_type": "code",
   "execution_count": 23,
   "id": "31883624",
   "metadata": {},
   "outputs": [
    {
     "name": "stdout",
     "output_type": "stream",
     "text": [
      "\n",
      "\n",
      "\u001b[1m> Entering new AgentExecutor chain...\u001b[0m\n",
      "\u001b[32;1m\u001b[1;3mThought: I don't have enough information about Tesla cars in my Knowledge Base, so I'll search on Wikipedia to get more information.\n",
      "\n",
      "Action: Wikipedia Search\n",
      "Action Input: \"Tesla, Inc.\"\u001b[0m\n",
      "Observation: \u001b[36;1m\u001b[1;3mPage: Tesla, Inc.\n",
      "Summary: Tesla, Inc. ( TEZ-lə or   TESS-lə) is an American multinational automotive and clean energy company. Headquartered in Austin, Texas, it designs, manufactures and sells battery electric vehicles (BEVs), stationary battery energy storage devices from home to grid-scale, solar panels and solar shingles, and related products and services.\n",
      "Tesla was incorporated in July 2003 by Martin Eberhard and Marc Tarpenning as Tesla Motors. Its name is a tribute to inventor and electrical engineer Nikola Tesla. In February 2004, Elon Musk led Tesla's first funding round and became the company's chairman; in 2008, he was named chief executive officer. In 2008, the company began production of its first car model, the Roadster sports car, followed by the Model S sedan in 2012, the Model X SUV in 2015, the Model 3 sedan in 2017, the Model Y crossover in 2020, the Tesla Semi truck in 2022 and the Cybertruck pickup truck in 2023.\n",
      "Tesla is one of the world's most valuable companies in terms of market capitalization. Starting in July 2020, it has been the world's most valuable automaker. From October 2021 to March 2022, Tesla was a trillion-dollar company, the seventh U.S. company to reach that valuation. Tesla exceeded $1 trillion in market capitalization again between November 2024 and February 2025. In 2023, the company led the battery electric vehicle market, with 19.9% share. Also in 2023, the company was ranked 69th in the Forbes Global 2000.\n",
      "Tesla has been the subject of lawsuits, boycotts, government scrutiny, and journalistic criticism, stemming from allegations of multiple cases of whistleblower retaliation, worker rights violations such as sexual harassment and anti-union activities, safety defects leading to dozens of recalls, the lack of a public relations department, and controversial statements from Musk including overpromising on the company's driving assist technology and product release timelines. Opponents of Musk have launched the \"Tesla Takedown\" campaign in response to the views of Musk and his role in the second Trump presidency.\n",
      "\n",
      "\n",
      "\n",
      "Page: History of Tesla, Inc.\n",
      "Summary: Tesla, Inc. is an electric vehicle manufacturer and clean energy company founded in San Carlos, California in 2003 by American entrepreneurs Martin Eberhard and Marc Tarpenning. The company is named after Serbian-American inventor Nikola Tesla. Tesla is the world's leading electric vehicle manufacturer, and, as of the end of 2021, Tesla's cumulative global vehicle sales totaled 2.3 million units.\n",
      "\n",
      "Page: Criticism of Tesla, Inc.\n",
      "Summary: Tesla, Inc. has been criticized for its cars, workplace culture, business practices, and occupational safety. Many of the criticisms are also directed toward Elon Musk, the company's CEO and Product Architect. Critics have also accused Tesla of deceptive marketing, unfulfilled promises, and fraud. The company is currently facing criminal and civil investigations into its self-driving claims. Critics have highlighted Tesla's downplaying of issues, and Tesla's alleged retaliation against several whistleblowers.\n",
      "The safety and quality of Tesla cars and services have been questioned. There have been hundreds of reports of sudden unintended acceleration, brake failures, and \"whompy wheels\" – collapsing wheels due to faulty car suspension. These safety and quality problems have been compounded in the past by the poor wait times of Tesla's customer service. Some features such as Autopilot, Full Self-Driving beta, and Passenger Play (a feature allowing riders to play Tesla games while in motion) have been criticized for their careless deployment. Critics have noted that some Tesla cars have had poor build quality due to rushed testing, leading to a high ratio of flawed vehicles. Others criticized the company's \"stealth\" vehicle recalls, requiring customers to sign non-disclosure agreements.\n",
      "Relationships between Musk, Tesla board members, employees, and unions have been complicated, partly resulting in a high t\u001b[0m\n",
      "Thought:\u001b[32;1m\u001b[1;3mThought: Based on the Wikipedia search results, I have gathered a lot of information about Tesla, Inc., including its history, products, market value, and criticisms.\n",
      "\n",
      "Action: Wikipedia Search\n",
      "Action Input: \"Tesla models\"\u001b[0m\n",
      "Observation: \u001b[36;1m\u001b[1;3mPage: Tesla Model 3\n",
      "Summary: The Tesla Model 3 is a battery electric powered mid-size sedan with a fastback body style built by Tesla, Inc., introduced in 2017. The vehicle is marketed as being more affordable to more people than previous models made by Tesla. The Model 3 was the world's top-selling plug-in electric car for three years, from 2018 to 2020, before the Tesla Model Y, a crossover SUV based on the Model 3 chassis, took the top spot. In June 2021, the Model 3 became the first electric car to pass global sales of 1 million. \n",
      "A facelifted Model 3 with revamped interior and exterior styling was introduced in late 2023 for countries supplied by Gigafactory Shanghai and in early 2024 in North America and other countries supplied by the Tesla Fremont Factory.\n",
      "\n",
      "Page: Tesla Model Y\n",
      "Summary: The Tesla Model Y is a battery electric compact crossover SUV produced by Tesla, Inc. since 2020. The vehicle was presented in March 2019 as the company's fifth production model since its inception after the Roadster, Model S, Model X and Model 3.\n",
      "After its 2019 introduction, the Model Y started production at the Fremont Factory in California, US in January 2020. Production at Giga Shanghai, China was added in December 2020, and at Giga Texas, US since late 2021. Deliveries from Giga Berlin, Germany started in March 2022.\n",
      "The Model Y is based on the Model 3 sedan and serves as a larger variant, with around 76 percent of parts being shared between the two and identical exterior and interior styling. While most Model Y are configured with two-row seating, in the US the Model Y offers optional third-row seats for a seven-passenger seating capacity.\n",
      "In 2023, Tesla delivered 1.2 million Model Ys, making it the world's best-selling vehicle that year, surpassing the Toyota Corolla and becoming the first electric vehicle to claim that title. With at least 2.16 million units delivered since its start of production up to December 2023, the Model Y is also the most popular electric vehicle of all time. Tesla claims the Model Y was again the best-selling vehicle in the world in 2024.\n",
      "Deliveries are being delayed as an improved and refreshed Model Y was revealed in January 2025 with similar upgrades as the upgraded Model 3.\n",
      "\n",
      "Page: Tesla Model S\n",
      "Summary: The Tesla Model S is a battery-electric, four-door full-size car produced by the American automaker Tesla since 2012. The automaker's second vehicle and longest-produced model, critics have called the Model S one of the most significant and influential electric cars in the industry. It is the recipient of numerous accolades, including the Motor Trend Car of the Year Award in 2013. In 2012, it was included on Time's list of the best inventions of the year, and the magazine later included it on its list of the 10 best gadgets of the 2010s in 2019.\n",
      "Tesla started developing the Model S around 2007 under the codename WhiteStar. Initially, Henrik Fisker was appointed as the lead designer for the WhiteStar project; after a dispute with Elon Musk, Tesla's CEO, Fisker was replaced by Franz von Holzhausen. By 2008, von Holzhausen had designed what would become the production Model S's exterior. Tesla unveiled a prototype of the vehicle in March 2009 in Hawthorne, California. In 2010, Tesla acquired a facility in Fremont, California, to produce the Model S, which was previously owned by General Motors and Toyota. Series manufacture of the car officially began at what is now known as the Tesla Fremont Factory in June 2012. Tesla carried out the final assembly for European markets at its facilities in Tilburg, the Netherlands, between 2013 and 2021. \n",
      "All versions of the Model S come equipped with a single-speed transmission. The car initially used an alternating current induction motor, but Tesla replaced it with a permanent magnet synchronous reluctance unit in 2019. Constructed mostly of aluminum, the Model S shares 30 percent of its components with the Model X—a crossover SUV that was introduced in 2015. The ca\u001b[0m\n",
      "Thought:\u001b[32;1m\u001b[1;3mThought: I now have a lot of information about Tesla cars, including their models, features, and history.\n",
      "\n",
      "Final Answer: Tesla, Inc. is an American multinational automotive and clean energy company founded in 2003 by Martin Eberhard and Marc Tarpenning. The company designs, manufactures, and sells battery electric vehicles (BEVs), stationary battery energy storage devices, solar panels, and solar shingles, and related products and services. Tesla's car models include the Roadster, Model S, Model X, Model 3, Model Y, Cybertruck, and Tesla Semi. The company is known for its innovative electric vehicles, Autopilot technology, and clean energy solutions. However, Tesla has also faced criticisms and controversies, including allegations of whistleblower retaliation, worker rights violations, safety defects, and deceptive marketing practices. Despite these challenges, Tesla remains one of the world's most valuable companies and a leader in the electric vehicle market.\u001b[0m\n",
      "\n",
      "\u001b[1m> Finished chain.\u001b[0m\n",
      "Tesla, Inc. is an American multinational automotive and clean energy company founded in 2003 by Martin Eberhard and Marc Tarpenning. The company designs, manufactures, and sells battery electric vehicles (BEVs), stationary battery energy storage devices, solar panels, and solar shingles, and related products and services. Tesla's car models include the Roadster, Model S, Model X, Model 3, Model Y, Cybertruck, and Tesla Semi. The company is known for its innovative electric vehicles, Autopilot technology, and clean energy solutions. However, Tesla has also faced criticisms and controversies, including allegations of whistleblower retaliation, worker rights violations, safety defects, and deceptive marketing practices. Despite these challenges, Tesla remains one of the world's most valuable companies and a leader in the electric vehicle market.\n"
     ]
    }
   ],
   "source": [
    "from langchain_community.utilities.wikipedia import WikipediaAPIWrapper\n",
    "\n",
    "wikipedia_search_tool = Tool(\n",
    "    name=\"Wikipedia Search\",\n",
    "    func=WikipediaAPIWrapper().run,\n",
    "    description=\"Use this tool to search on Wikipedia if answer is not present in Knowledge Base of LLM\"\n",
    ")\n",
    "agent_llm = ChatGroq(\n",
    "    model=\"llama3-70b-8192\"\n",
    ")\n",
    "wiki_search_tool = [wikipedia_search_tool]\n",
    "search_agent = initialize_agent(wiki_search_tool, agent_llm, agent=\"zero-shot-react-description\", verbose=True)\n",
    "agent_response = search_agent.run(\"Give me the information about tesla car\")\n",
    "print(agent_response)"
   ]
  },
  {
   "cell_type": "code",
   "execution_count": null,
   "id": "5acc679a",
   "metadata": {},
   "outputs": [],
   "source": []
  }
 ],
 "metadata": {
  "kernelspec": {
   "display_name": "Python 3",
   "language": "python",
   "name": "python3"
  },
  "language_info": {
   "codemirror_mode": {
    "name": "ipython",
    "version": 3
   },
   "file_extension": ".py",
   "mimetype": "text/x-python",
   "name": "python",
   "nbconvert_exporter": "python",
   "pygments_lexer": "ipython3",
   "version": "3.12.1"
  }
 },
 "nbformat": 4,
 "nbformat_minor": 5
}
