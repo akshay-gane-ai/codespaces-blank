{
 "cells": [
  {
   "cell_type": "code",
   "execution_count": 15,
   "id": "4e075494",
   "metadata": {},
   "outputs": [
    {
     "name": "stdout",
     "output_type": "stream",
     "text": [
      "0.3.23\n"
     ]
    }
   ],
   "source": [
    "import langchain\n",
    "print(langchain.__version__)"
   ]
  },
  {
   "cell_type": "code",
   "execution_count": 16,
   "id": "6e8642ec",
   "metadata": {},
   "outputs": [],
   "source": [
    "from langchain.agents import initialize_agent, Tool\n",
    "from langchain_groq import ChatGroq\n",
    "from dotenv import load_dotenv\n",
    "import os\n",
    "\n",
    "load_dotenv()\n",
    "groq_api_key = os.getenv(\"GROQ_API_KEY\")"
   ]
  },
  {
   "cell_type": "code",
   "execution_count": 18,
   "id": "e8e8a801",
   "metadata": {},
   "outputs": [
    {
     "name": "stderr",
     "output_type": "stream",
     "text": [
      "/tmp/ipykernel_10867/331193162.py:16: LangChainDeprecationWarning: The method `Chain.run` was deprecated in langchain 0.1.0 and will be removed in 1.0. Use :meth:`~invoke` instead.\n",
      "  agent_response = search_agent.run(\"What are the latest movies that will be release in April 2025\")\n"
     ]
    },
    {
     "name": "stdout",
     "output_type": "stream",
     "text": [
      "\n",
      "\n",
      "\u001b[1m> Entering new AgentExecutor chain...\u001b[0m\n"
     ]
    },
    {
     "name": "stdout",
     "output_type": "stream",
     "text": [
      "\u001b[32;1m\u001b[1;3mThought: I don't have the latest information on upcoming movie releases, so I'll use the Duck Duck Go Search tool to find the answer.\n",
      "\n",
      "Action: Duck Duck Go Search\n",
      "Action Input: \"Upcoming movies April 2025\"\n",
      "\u001b[0m\n",
      "Observation: Duck Duck Go Search is not a valid tool, try one of [Duck Duck go Search].\n",
      "Thought:\u001b[32;1m\u001b[1;3mI apologize for the mistake. Here's the revised attempt:\n",
      "\n",
      "Question: What are the latest movies that will be released in April 2025\n",
      "Thought: I don't have the latest information on upcoming movie releases, so I'll use the Duck Duck Go Search tool to find the answer.\n",
      "\n",
      "Action: Duck Duck go Search\n",
      "Action Input: \"Upcoming movies April 2025\"\n",
      "\u001b[0m\n",
      "Observation: \u001b[36;1m\u001b[1;3mHere is our list of every movie releasing in theaters in April 2025. We have some huge blockbusters coming to theaters next month. ... A Minecraft Movie will be released in theaters on April 4, 2025. April 2025 will bring a dose of horror with a vampire movie and a new take on Mickey Mouse, a movie based on a popular video game, and a lot more. Horror, fantasy, and a lot more. ... Every Movie Coming To Theaters In April 2025. By Adrienne Tyler. Published Mar 28, 2025. Upcoming Movies in April (2025) (Images via Amazon MGM Studios, Lionsgate Movies, 20th Century Studios, Netflix) Every movie enthusiast will appreciate the upcoming 2025 movie season because several films will appear on theater screens and streaming services. The upcoming films will feature supernatural horror and action thriller dynamics with ... Release Date: April 11, 2025 Coming in fourth with 12% of the vote is Warfare, a film co-directed by Ray Mendoza and Alex Garland that tells the story of American soldiers who must escape enemy territory while fighting in Iraq.Mendoza served as the military advisor on Garland's last film, Civil War, and the two decided to work on a project based on Mendoza's own experiences. New movies in April 2025. April 2: Screamboat - Comedy horror adaptation of Steamboat Willie (theaters) ... Upcoming movies in 2025 without release dates Netflix. Summer 2025: ...\u001b[0m\n",
      "Thought:\u001b[32;1m\u001b[1;3mThought: It seems like I have found a list of upcoming movies in April 2025. However, the list is not exhaustive, and some movies don't have specific release dates. I'll try to extract the movies with confirmed release dates in April 2025.\n",
      "\n",
      "Action: Duck Duck go Search\n",
      "Action Input: \"Upcoming movies April 2025 release dates\"\n",
      "\u001b[0m\n",
      "Observation: \u001b[36;1m\u001b[1;3mHere is our list of every movie releasing in theaters in April 2025. April 2025 is packed with movies from different genres releasing in theaters, and among them is another horror version of Mickey Mouse, a movie based on a popular video game, a slasher comedy, a vampire movie, and more. 2025 has had a great start when it comes to movies released in theaters, and though it has obviously had its lows, so far it's continuing the good streak of 2024. After a ... Check out the most anticipated movie releases hitting theaters in April 2025. From blockbusters to indie gems, here's your complete release guide. - Blog | What's After the Movie? Movies A-Z By Genres By Studio Trailers More Movie Release Dates 2024 Movies 2023 Movies 2022 Movies 2021 Movies Latest Updates New Photos Release Date Changes New Parent Ratings Movie Feed Streaming on Digital Disney+ Movies Netflix Movies Prime Video Movies Apple TV+ Movies Related Links Top Hearted Movies Top Hearted Trailers Movie News ... April brings a ton of big new releases in theaters and at home. Here's everything to watch this month and where to find them!\u001b[0m\n",
      "Thought:\u001b[32;1m\u001b[1;3mThought: It seems like I have found multiple sources listing upcoming movies in April 2025, but I still need to extract the specific release dates. Let me try to summarize the information I've found so far.\n",
      "\n",
      "Action: Duck Duck go Search\n",
      "Action Input: \"April 2025 movie releases with specific dates\"\n",
      "\u001b[0m\n",
      "Observation: \u001b[36;1m\u001b[1;3mEvery Movie Releasing in Theaters in April 2025. By Hanumanth Reddy. Published Mar 23, 2025. Follow ... A Minecraft Movie will be released in theaters on April 4, 2025. Your Rating. close. April 2025 will bring a dose of horror with a vampire movie and a new take on Mickey Mouse, a movie based on a popular video game, and a lot more. Horror, fantasy, and a lot more. ... Every Movie Coming To Theaters In April 2025. By Adrienne Tyler. Published Mar 28, 2025. Follow Followed Like ... April 2025 Movie Releases. Movie Buffs. 03/31/2025. By Jordan Maison. Less than 1 min. read. ... Movie Title Release Date Platform; Screamboat: 04/02/2025: Limited: The Friend: 04/04/2025: Theaters: A Minecraft Movie: 04/04/2025: Theaters: Freaky Tales: 04/04/2025: Theaters: Hell of a Summer: 04/04/2025: Movie Release Dates; 2024 Movies; 2023 Movies; 2022 Movies; 2021 Movies; Latest Updates; New Photos; Release Date Changes; New Parent Ratings; Movie Feed; Streaming on Digital; ... April 2025 Movies . Best Movies Coming Out April 2025 . Mystery . Fog of War . 88% 12%. Suspense . The Amateur . 88% 12%. Suspense . Drop . 72% 28%. Adaptation . The ... Movie Release Dates; 2024 Movies; 2023 Movies; 2022 Movies; 2021 Movies; Latest Updates; New Photos; Release Date Changes; New Parent Ratings; Movie Feed; Streaming on Digital; ... April 2025 Movies . April 2025 Movies . Best Movies Coming Out April 2025 . Action . Home Sweet Home: Rebir... 50% 50%. Suspense . The Amateur . 88% 12%. Adaptation ...\u001b[0m\n",
      "Thought:\u001b[32;1m\u001b[1;3mThought: I have finally gathered a list of movies with specific release dates in April 2025.\n",
      "\n",
      "Final Answer: Here is the list of movies with confirmed release dates in April 2025:\n",
      "\n",
      "* Screamboat: April 2, 2025 (Limited release)\n",
      "* The Friend: April 4, 2025 (Theaters)\n",
      "* A Minecraft Movie: April 4, 2025 (Theaters)\n",
      "* Freaky Tales: April 4, 2025 (Theaters)\n",
      "* Hell of a Summer: April 4, 2025 (Theaters)\n",
      "\n",
      "Please note that this list might not be exhaustive, and more movies may be released in April 2025.\u001b[0m\n",
      "\n",
      "\u001b[1m> Finished chain.\u001b[0m\n",
      "Here is the list of movies with confirmed release dates in April 2025:\n",
      "\n",
      "* Screamboat: April 2, 2025 (Limited release)\n",
      "* The Friend: April 4, 2025 (Theaters)\n",
      "* A Minecraft Movie: April 4, 2025 (Theaters)\n",
      "* Freaky Tales: April 4, 2025 (Theaters)\n",
      "* Hell of a Summer: April 4, 2025 (Theaters)\n",
      "\n",
      "Please note that this list might not be exhaustive, and more movies may be released in April 2025.\n"
     ]
    }
   ],
   "source": [
    "from langchain_community.tools.ddg_search import DuckDuckGoSearchRun\n",
    "\n",
    "agent_search_tool = Tool(\n",
    "    name=\"Duck Duck go Search\",\n",
    "    func=DuckDuckGoSearchRun().run,\n",
    "    description=\"Use this tool to search on web if answer is not present in Knowlwdge Base of LLM\"\n",
    ")\n",
    "\n",
    "agent_llm = ChatGroq(\n",
    "    model=\"llama3-70b-8192\"\n",
    ")\n",
    "\n",
    "tool = [agent_search_tool]\n",
    "\n",
    "search_agent = initialize_agent(tool, agent_llm, agent=\"zero-shot-react-description\", verbose=True)\n",
    "agent_response = search_agent.run(\"What are the latest movies that will be release in April 2025\")\n",
    "\n",
    "print(agent_response)"
   ]
  },
  {
   "cell_type": "code",
   "execution_count": null,
   "id": "31883624",
   "metadata": {},
   "outputs": [],
   "source": []
  },
  {
   "cell_type": "code",
   "execution_count": null,
   "id": "5acc679a",
   "metadata": {},
   "outputs": [],
   "source": []
  }
 ],
 "metadata": {
  "kernelspec": {
   "display_name": "Python 3",
   "language": "python",
   "name": "python3"
  },
  "language_info": {
   "codemirror_mode": {
    "name": "ipython",
    "version": 3
   },
   "file_extension": ".py",
   "mimetype": "text/x-python",
   "name": "python",
   "nbconvert_exporter": "python",
   "pygments_lexer": "ipython3",
   "version": "3.12.1"
  }
 },
 "nbformat": 4,
 "nbformat_minor": 5
}
