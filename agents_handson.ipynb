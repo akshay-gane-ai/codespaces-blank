{
 "cells": [
  {
   "cell_type": "code",
   "execution_count": 6,
   "id": "4e075494",
   "metadata": {},
   "outputs": [
    {
     "name": "stdout",
     "output_type": "stream",
     "text": [
      "0.3.23\n"
     ]
    }
   ],
   "source": [
    "import langchain\n",
    "print(langchain.__version__)"
   ]
  },
  {
   "cell_type": "code",
   "execution_count": 7,
   "id": "6e8642ec",
   "metadata": {},
   "outputs": [],
   "source": [
    "from langchain.agents import initialize_agent, Tool\n",
    "from langchain_groq import ChatGroq\n",
    "from dotenv import load_dotenv\n",
    "import os\n",
    "\n",
    "load_dotenv()\n",
    "groq_api_key = os.getenv(\"GROQ_API_KEY\")"
   ]
  },
  {
   "cell_type": "code",
   "execution_count": 8,
   "id": "e8e8a801",
   "metadata": {},
   "outputs": [
    {
     "name": "stderr",
     "output_type": "stream",
     "text": [
      "/tmp/ipykernel_1877/4284466588.py:15: LangChainDeprecationWarning: LangChain agents will continue to be supported, but it is recommended for new use cases to be built with LangGraph. LangGraph offers a more flexible and full-featured framework for building agents, including support for tool-calling, persistence of state, and human-in-the-loop workflows. For details, refer to the `LangGraph documentation <https://langchain-ai.github.io/langgraph/>`_ as well as guides for `Migrating from AgentExecutor <https://python.langchain.com/docs/how_to/migrate_agent/>`_ and LangGraph's `Pre-built ReAct agent <https://langchain-ai.github.io/langgraph/how-tos/create-react-agent/>`_.\n",
      "  search_agent = initialize_agent(ddg_tool, agent_llm, agent=\"zero-shot-react-description\", verbose=True)\n",
      "/tmp/ipykernel_1877/4284466588.py:16: LangChainDeprecationWarning: The method `Chain.run` was deprecated in langchain 0.1.0 and will be removed in 1.0. Use :meth:`~invoke` instead.\n",
      "  agent_response = search_agent.run(\"What are the latest movies that will be release in April 2025\")\n"
     ]
    },
    {
     "name": "stdout",
     "output_type": "stream",
     "text": [
      "\n",
      "\n",
      "\u001b[1m> Entering new AgentExecutor chain...\u001b[0m\n",
      "\u001b[32;1m\u001b[1;3mI need to find the latest movies that will be released in April 2025. Since this information is not present in the Knowledge Base of LLM, I will use the Duck Duck go Search tool to search for it on the web.\n",
      "\n",
      "Action: Duck Duck go Search\n",
      "Action Input: \"Upcoming movies April 2025\"\u001b[0m\n",
      "Observation: \u001b[36;1m\u001b[1;3mHere is our list of every movie releasing in theaters in April 2025. We have some huge blockbusters coming to theaters next month. ... A Minecraft Movie will be released in theaters on April 4, 2025. April 2025 will bring a dose of horror with a vampire movie and a new take on Mickey Mouse, a movie based on a popular video game, and a lot more. Horror, fantasy, and a lot more. ... Every Movie Coming To Theaters In April 2025. By Adrienne Tyler. Published Mar 28, 2025. Release Date: April 11, 2025 Coming in fourth with 12% of the vote is Warfare, a film co-directed by Ray Mendoza and Alex Garland that tells the story of American soldiers who must escape enemy territory while fighting in Iraq.Mendoza served as the military advisor on Garland's last film, Civil War, and the two decided to work on a project based on Mendoza's own experiences. With April just around the corner, movie-lovers can expect eight exciting new films coming to theaters — plus two classics that are being re-released in theaters. Here are some new movies coming to theaters this April. Starting the month off strong, Jack Black, Jason Momoa, Emma Myers and Jennifer ... New movies in April 2025. April 2: Screamboat - Comedy horror adaptation of Steamboat Willie (theaters) ... Upcoming movies in 2025 without release dates Netflix. Summer 2025: ...\u001b[0m\n",
      "Thought:\u001b[32;1m\u001b[1;3mThought: I have the search results, but they are not well-organized and seem to be from different sources. I need to extract the relevant information to get the list of latest movies that will be released in April 2025.\n",
      "\n",
      "Action: Duck Duck go Search\n",
      "Action Input: \"Upcoming movies April 2025 list\"\u001b[0m\n",
      "Observation: \u001b[36;1m\u001b[1;3mBelow is a list of all the films that will be available in theaters in April 2025, with some highlighted based on their significance. 'A Minecraft Movie' Watch It in Theaters on April 4 Scott McGehee and David Siegel's directorial film, The Friend, will have its initial theater release in the US on March 28, 2025.Additionally, this movie will be released in theaters across the globe on April 4, 2025. Naomi Watts will play Iris, a single writer from New York. April 2025 will bring a dose of horror with a vampire movie and a new take on Mickey Mouse, a movie based on a popular video game, and a lot more. Horror, fantasy, and a lot more. ... Every Movie Coming To Theaters In April 2025. By Adrienne Tyler. Published Mar 28, 2025. Follow Followed Like ... New movies in April 2025. April 2: Screamboat - Comedy horror adaptation of Steamboat Willie (theaters) ... Upcoming movies in 2025 without release dates Netflix. Summer 2025: ... Release Date: April 11, 2025 Coming in fourth with 12% of the vote is Warfare, a film co-directed by Ray Mendoza and Alex Garland that tells the story of American soldiers who must escape enemy territory while fighting in Iraq.Mendoza served as the military advisor on Garland's last film, Civil War, and the two decided to work on a project based on Mendoza's own experiences.\u001b[0m\n",
      "Thought:\u001b[32;1m\u001b[1;3mThought: I have extracted the relevant information from the search results. I can now provide the list of latest movies that will be released in April 2025.\n",
      "\n",
      "Final Answer: Here is the list of latest movies that will be released in April 2025:\n",
      "\n",
      "1. A Minecraft Movie - April 4, 2025\n",
      "2. Screamboat - April 2, 2025 (Comedy horror adaptation of Steamboat Willie)\n",
      "3. The Friend - April 4, 2025 (initial theater release in the US on March 28, 2025)\n",
      "4. Warfare - April 11, 2025 (co-directed by Ray Mendoza and Alex Garland)\n",
      "\n",
      "Note: There might be more movies releasing in April 2025, but these are the ones that I could extract from the search results.\u001b[0m\n",
      "\n",
      "\u001b[1m> Finished chain.\u001b[0m\n",
      "Here is the list of latest movies that will be released in April 2025:\n",
      "\n",
      "1. A Minecraft Movie - April 4, 2025\n",
      "2. Screamboat - April 2, 2025 (Comedy horror adaptation of Steamboat Willie)\n",
      "3. The Friend - April 4, 2025 (initial theater release in the US on March 28, 2025)\n",
      "4. Warfare - April 11, 2025 (co-directed by Ray Mendoza and Alex Garland)\n",
      "\n",
      "Note: There might be more movies releasing in April 2025, but these are the ones that I could extract from the search results.\n"
     ]
    }
   ],
   "source": [
    "from langchain_community.tools.ddg_search import DuckDuckGoSearchRun\n",
    "\n",
    "agent_search_tool = Tool(\n",
    "    name=\"Duck Duck go Search\",\n",
    "    func=DuckDuckGoSearchRun().run,\n",
    "    description=\"Use this tool to search on web if answer is not present in Knowlwdge Base of LLM\"\n",
    ")\n",
    "\n",
    "agent_llm = ChatGroq(\n",
    "    model=\"llama3-70b-8192\"\n",
    ")\n",
    "\n",
    "ddg_tool = [agent_search_tool]\n",
    "\n",
    "search_agent = initialize_agent(ddg_tool, agent_llm, agent=\"zero-shot-react-description\", verbose=True)\n",
    "agent_response = search_agent.run(\"What are the latest movies that will be release in April 2025\")\n",
    "\n",
    "print(agent_response)"
   ]
  },
  {
   "cell_type": "code",
   "execution_count": 9,
   "id": "31883624",
   "metadata": {},
   "outputs": [
    {
     "name": "stdout",
     "output_type": "stream",
     "text": [
      "\n",
      "\n",
      "\u001b[1m> Entering new AgentExecutor chain...\u001b[0m\n"
     ]
    },
    {
     "name": "stdout",
     "output_type": "stream",
     "text": [
      "\u001b[32;1m\u001b[1;3mThought: I don't have enough information about Tesla cars in my Knowledge Base, so I need to search on Wikipedia.\n",
      "\n",
      "Action: Wikipedia Search\n",
      "Action Input: Tesla, Inc.\u001b[0m\n",
      "Observation: \u001b[36;1m\u001b[1;3mPage: Tesla, Inc.\n",
      "Summary: Tesla, Inc. ( TEZ-lə or   TESS-lə) is an American multinational automotive and clean energy company. Headquartered in Austin, Texas, it designs, manufactures and sells battery electric vehicles (BEVs), stationary battery energy storage devices from home to grid-scale, solar panels and solar shingles, and related products and services.\n",
      "Tesla was incorporated in July 2003 by Martin Eberhard and Marc Tarpenning as Tesla Motors. Its name is a tribute to inventor and electrical engineer Nikola Tesla. In February 2004, Elon Musk led Tesla's first funding round and became the company's chairman; in 2008, he was named chief executive officer. In 2008, the company began production of its first car model, the Roadster sports car, followed by the Model S sedan in 2012, the Model X SUV in 2015, the Model 3 sedan in 2017, the Model Y crossover in 2020, the Tesla Semi truck in 2022 and the Cybertruck pickup truck in 2023.\n",
      "Tesla is one of the world's most valuable companies in terms of market capitalization. Starting in July 2020, it has been the world's most valuable automaker. From October 2021 to March 2022, Tesla was a trillion-dollar company, the seventh U.S. company to reach that valuation. Tesla exceeded $1 trillion in market capitalization again between November 2024 and February 2025. In 2023, the company led the battery electric vehicle market, with 19.9% share. Also in 2023, the company was ranked 69th in the Forbes Global 2000.\n",
      "Tesla has been the subject of lawsuits, boycotts, government scrutiny, and journalistic criticism, stemming from allegations of multiple cases of whistleblower retaliation, worker rights violations such as sexual harassment and anti-union activities, safety defects leading to dozens of recalls, the lack of a public relations department, and controversial statements from Musk including overpromising on the company's driving assist technology and product release timelines. Opponents of Musk have launched the \"Tesla Takedown\" campaign in response to the views of Musk and his role in the second Trump presidency.\n",
      "\n",
      "\n",
      "\n",
      "Page: History of Tesla, Inc.\n",
      "Summary: Tesla, Inc. is an electric vehicle manufacturer and clean energy company founded in San Carlos, California in 2003 by American entrepreneurs Martin Eberhard and Marc Tarpenning. The company is named after Serbian-American inventor Nikola Tesla. Tesla is the world's leading electric vehicle manufacturer, and, as of the end of 2021, Tesla's cumulative global vehicle sales totaled 2.3 million units.\n",
      "\n",
      "\n",
      "\n",
      "Page: Criticism of Tesla, Inc.\n",
      "Summary: Tesla, Inc. has been criticized for its cars, workplace culture, business practices, and occupational safety. Many of the criticisms are also directed toward Elon Musk, the company's CEO and Product Architect. Critics have also accused Tesla of deceptive marketing, unfulfilled promises, and fraud. The company is currently facing criminal and civil investigations into its self-driving claims. Critics have highlighted Tesla's downplaying of issues, and Tesla's alleged retaliation against several whistleblowers.\n",
      "The safety and quality of Tesla cars and services have been questioned. There have been hundreds of reports of sudden unintended acceleration, brake failures, and \"whompy wheels\" – collapsing wheels due to faulty car suspension. These safety and quality problems have been compounded in the past by the poor wait times of Tesla's customer service. Some features such as Autopilot, Full Self-Driving beta, and Passenger Play (a feature allowing riders to play Tesla games while in motion) have been criticized for their careless deployment. Critics have noted that some Tesla cars have had poor build quality due to rushed testing, leading to a high ratio of flawed vehicles. Others criticized the company's \"stealth\" vehicle recalls, requiring customers to sign non-disclosure agreements.\n",
      "Relationships between Musk, Tesla board members, employees, and unions have been complicated, partly resulting in a high\u001b[0m\n",
      "Thought:\u001b[32;1m\u001b[1;3mThought: I have the information about Tesla, Inc. from Wikipedia, but I need to organize it to answer the original question about Tesla cars.\n",
      "\n",
      "Action: Wikipedia Search\n",
      "Action Input: Tesla, Inc. vehicles\u001b[0m\n",
      "Observation: \u001b[36;1m\u001b[1;3mPage: History of Tesla, Inc.\n",
      "Summary: Tesla, Inc. is an electric vehicle manufacturer and clean energy company founded in San Carlos, California in 2003 by American entrepreneurs Martin Eberhard and Marc Tarpenning. The company is named after Serbian-American inventor Nikola Tesla. Tesla is the world's leading electric vehicle manufacturer, and, as of the end of 2021, Tesla's cumulative global vehicle sales totaled 2.3 million units.\n",
      "\n",
      "\n",
      "\n",
      "Page: Tesla, Inc.\n",
      "Summary: Tesla, Inc. ( TEZ-lə or   TESS-lə) is an American multinational automotive and clean energy company. Headquartered in Austin, Texas, it designs, manufactures and sells battery electric vehicles (BEVs), stationary battery energy storage devices from home to grid-scale, solar panels and solar shingles, and related products and services.\n",
      "Tesla was incorporated in July 2003 by Martin Eberhard and Marc Tarpenning as Tesla Motors. Its name is a tribute to inventor and electrical engineer Nikola Tesla. In February 2004, Elon Musk led Tesla's first funding round and became the company's chairman; in 2008, he was named chief executive officer. In 2008, the company began production of its first car model, the Roadster sports car, followed by the Model S sedan in 2012, the Model X SUV in 2015, the Model 3 sedan in 2017, the Model Y crossover in 2020, the Tesla Semi truck in 2022 and the Cybertruck pickup truck in 2023.\n",
      "Tesla is one of the world's most valuable companies in terms of market capitalization. Starting in July 2020, it has been the world's most valuable automaker. From October 2021 to March 2022, Tesla was a trillion-dollar company, the seventh U.S. company to reach that valuation. Tesla exceeded $1 trillion in market capitalization again between November 2024 and February 2025. In 2023, the company led the battery electric vehicle market, with 19.9% share. Also in 2023, the company was ranked 69th in the Forbes Global 2000.\n",
      "Tesla has been the subject of lawsuits, boycotts, government scrutiny, and journalistic criticism, stemming from allegations of multiple cases of whistleblower retaliation, worker rights violations such as sexual harassment and anti-union activities, safety defects leading to dozens of recalls, the lack of a public relations department, and controversial statements from Musk including overpromising on the company's driving assist technology and product release timelines. Opponents of Musk have launched the \"Tesla Takedown\" campaign in response to the views of Musk and his role in the second Trump presidency.\n",
      "\n",
      "\n",
      "\n",
      "Page: Tesla Model X\n",
      "Summary: The Tesla Model X is a battery electric mid-size luxury crossover SUV built by Tesla, Inc. since 2015. Developed from the full-sized sedan platform of the Tesla Model S, the vehicle notably uses falcon wing doors for rear passenger access.\n",
      "The Model X has an EPA size class as an SUV, and shares around 30 percent of its content with the Model S, half of the originally planned 60 percent, and weighs about 10 percent more. Both the Model X and Model S are produced at the Tesla Factory in Fremont, California. The prototype was unveiled at Tesla's design studios in Hawthorne, California on February 9, 2012. First deliveries of the Model X began in September 2015. After one full year on the market, in 2016, the Model X ranked seventh among the world's best-selling plug-in cars. A refresh of the Tesla Model X was introduced in 2021, offering a new \"Plaid\" performance model, along with a revised interior, powertrain, and suspension.\n",
      "As of September 2023, the Model X is available as a Long-Range version with an estimated EPA range of 348 miles (560 km) and a high performance \"Plaid\" version with an estimated EPA range of 333 miles (536 km).\n",
      "\n",
      "\u001b[0m\n",
      "Thought:\u001b[32;1m\u001b[1;3mThought: I now know the information about Tesla cars from Wikipedia.\n",
      "\n",
      "Final Answer: Tesla, Inc. is an American multinational automotive and clean energy company that designs, manufactures, and sells battery electric vehicles (BEVs). Their car models include the Roadster sports car, Model S sedan, Model X SUV, Model 3 sedan, Model Y crossover, Tesla Semi truck, and Cybertruck pickup truck. The company has led the battery electric vehicle market with a 19.9% share in 2023 and has cumulative global vehicle sales of 2.3 million units as of 2021. However, Tesla has also faced criticism for its cars, workplace culture, business practices, and occupational safety, including allegations of sudden unintended acceleration, brake failures, and quality problems.\u001b[0m\n",
      "\n",
      "\u001b[1m> Finished chain.\u001b[0m\n",
      "Tesla, Inc. is an American multinational automotive and clean energy company that designs, manufactures, and sells battery electric vehicles (BEVs). Their car models include the Roadster sports car, Model S sedan, Model X SUV, Model 3 sedan, Model Y crossover, Tesla Semi truck, and Cybertruck pickup truck. The company has led the battery electric vehicle market with a 19.9% share in 2023 and has cumulative global vehicle sales of 2.3 million units as of 2021. However, Tesla has also faced criticism for its cars, workplace culture, business practices, and occupational safety, including allegations of sudden unintended acceleration, brake failures, and quality problems.\n"
     ]
    }
   ],
   "source": [
    "from langchain_community.utilities.wikipedia import WikipediaAPIWrapper\n",
    "\n",
    "wikipedia_search_tool = Tool(\n",
    "    name=\"Wikipedia Search\",\n",
    "    func=WikipediaAPIWrapper().run,\n",
    "    description=\"Use this tool to search on Wikipedia if answer is not present in Knowledge Base of LLM\"\n",
    ")\n",
    "agent_llm = ChatGroq(\n",
    "    model=\"llama3-70b-8192\"\n",
    ")\n",
    "wiki_search_tool = [wikipedia_search_tool]\n",
    "search_agent = initialize_agent(wiki_search_tool, agent_llm, agent=\"zero-shot-react-description\", verbose=True)\n",
    "agent_response = search_agent.run(\"Give me the information about tesla car\")\n",
    "print(agent_response)"
   ]
  },
  {
   "cell_type": "code",
   "execution_count": 10,
   "id": "5acc679a",
   "metadata": {},
   "outputs": [
    {
     "name": "stdout",
     "output_type": "stream",
     "text": [
      "Database created and sample data inserted.\n"
     ]
    }
   ],
   "source": [
    "import sqlite3\n",
    "from langchain import SQLDatabase\n",
    "from langchain.agents import create_sql_agent\n",
    "\n",
    "# Connect to the SQLite database\n",
    "conn = sqlite3.connect(\"test_database.db\")\n",
    "cursor = conn.cursor()\n",
    "# Create a sample table and insert some data\n",
    "cursor.execute('''\n",
    "    CREATE TABLE IF NOT EXISTS employees (\n",
    "        id INTEGER PRIMARY KEY,\n",
    "        name TEXT NOT NULL,\n",
    "        age INTEGER NOT NULL,\n",
    "        department TEXT NOT NULL\n",
    "    )\n",
    "''')\n",
    "cursor.execute('''\n",
    "    INSERT INTO employees (name, age, department)\n",
    "    VALUES\n",
    "        ('Alice', 30, 'HR'),\n",
    "        ('Bob', 25, 'Engineering'),\n",
    "        ('Charlie', 35, 'Sales')\n",
    "''')\n",
    "conn.commit()\n",
    "conn.close()\n",
    "\n",
    "print(\"Database created and sample data inserted.\")"
   ]
  },
  {
   "cell_type": "code",
   "execution_count": 11,
   "id": "1bdcb04b",
   "metadata": {},
   "outputs": [
    {
     "name": "stdout",
     "output_type": "stream",
     "text": [
      "\n",
      "\n",
      "\u001b[1m> Entering new AgentExecutor chain...\u001b[0m\n",
      "\u001b[32;1m\u001b[1;3mThought: I need to find the table that contains employee information and the department they work in.\n",
      "\n",
      "Action: sql_db_list_tables\n",
      "Action Input: \u001b[0m\n",
      "Observation: \u001b[38;5;200m\u001b[1;3memployees\u001b[0m\n",
      "Thought:\u001b[32;1m\u001b[1;3mI have the list of tables in the database. Now I need to check the schema of the \"employees\" table to see if it contains the necessary information.\n",
      "\n",
      "Action: sql_db_schema\n",
      "Action Input: employees\u001b[0m\n",
      "Observation: \u001b[33;1m\u001b[1;3m\n",
      "CREATE TABLE employees (\n",
      "\tid INTEGER, \n",
      "\tname TEXT NOT NULL, \n",
      "\tage INTEGER NOT NULL, \n",
      "\tdepartment TEXT NOT NULL, \n",
      "\tPRIMARY KEY (id)\n",
      ")\n",
      "\n",
      "/*\n",
      "3 rows from employees table:\n",
      "id\tname\tage\tdepartment\n",
      "1\tAlice\t30\tHR\n",
      "2\tBob\t25\tEngineering\n",
      "3\tCharlie\t35\tSales\n",
      "*/\u001b[0m\n",
      "Thought:\u001b[32;1m\u001b[1;3mI have the schema of the \"employees\" table, and it looks like it contains the necessary information: the employee's name and department. Now I need to craft a SQL query to retrieve the name of the employee who is working in the HR department.\n",
      "\n",
      "Action: sql_db_query_checker\n",
      "Action Input: SELECT name FROM employees WHERE department = 'HR'\u001b[0m\n",
      "Observation: \u001b[36;1m\u001b[1;3mSELECT name FROM employees WHERE department = 'HR'\u001b[0m\n",
      "Thought:\u001b[32;1m\u001b[1;3mI've checked the query and it looks good. Now I can execute it to get the result.\n",
      "\n",
      "Action: sql_db_query\n",
      "Action Input: SELECT name FROM employees WHERE department = 'HR'\u001b[0m\n",
      "Observation: \u001b[36;1m\u001b[1;3m[('Alice',), ('Alice',)]\u001b[0m\n",
      "Thought:\u001b[32;1m\u001b[1;3mI now know the final answer\n",
      "Final Answer: Alice\u001b[0m\n",
      "\n",
      "\u001b[1m> Finished chain.\u001b[0m\n",
      "Alice\n"
     ]
    }
   ],
   "source": [
    "from langchain_community.utilities.sql_database import SQLDatabase\n",
    "from langchain_community.agent_toolkits.sql.toolkit import SQLDatabaseToolkit\n",
    "\n",
    "agent_llm = ChatGroq(\n",
    "    model=\"llama3-70b-8192\"\n",
    ")\n",
    "\n",
    "agent_db_onnect = SQLDatabase.from_uri(\"sqlite:///test_database.db\")\n",
    "agent_db_toolkit = SQLDatabaseToolkit(db=agent_db_onnect, llm=agent_llm)\n",
    "agent_db_tools = agent_db_toolkit.get_tools()\n",
    "\n",
    "sql_db_agent = initialize_agent(agent_db_tools, agent_llm, agent=\"zero-shot-react-description\", verbose=True)\n",
    "\n",
    "agent_response = sql_db_agent.run(\"What is the name of employee who is working in HR department\")\n",
    "print(agent_response)"
   ]
  },
  {
   "cell_type": "code",
   "execution_count": null,
   "id": "76fda44d",
   "metadata": {},
   "outputs": [],
   "source": []
  }
 ],
 "metadata": {
  "kernelspec": {
   "display_name": "Python 3",
   "language": "python",
   "name": "python3"
  },
  "language_info": {
   "codemirror_mode": {
    "name": "ipython",
    "version": 3
   },
   "file_extension": ".py",
   "mimetype": "text/x-python",
   "name": "python",
   "nbconvert_exporter": "python",
   "pygments_lexer": "ipython3",
   "version": "3.12.1"
  }
 },
 "nbformat": 4,
 "nbformat_minor": 5
}
